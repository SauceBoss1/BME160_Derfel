{
 "metadata": {
  "language_info": {
   "codemirror_mode": {
    "name": "ipython",
    "version": 3
   },
   "file_extension": ".py",
   "mimetype": "text/x-python",
   "name": "python",
   "nbconvert_exporter": "python",
   "pygments_lexer": "ipython3",
   "version": "3.9.1"
  },
  "orig_nbformat": 2,
  "kernelspec": {
   "name": "python391jvsc74a57bd06bf59213ea1d2961dafc53c642123ec190901ffb4eab15e1f1c2436601156c63",
   "display_name": "Python 3.9.1 64-bit"
  },
  "metadata": {
   "interpreter": {
    "hash": "6bf59213ea1d2961dafc53c642123ec190901ffb4eab15e1f1c2436601156c63"
   }
  }
 },
 "nbformat": 4,
 "nbformat_minor": 2,
 "cells": [
  {
   "cell_type": "code",
   "execution_count": 36,
   "metadata": {},
   "outputs": [
    {
     "output_type": "stream",
     "name": "stdout",
     "text": [
      "[[(333, 22)], [1, 2]]\n"
     ]
    }
   ],
   "source": [
    "l = [[],[1,2]]\n",
    "l[0].append((333,22))\n",
    "print(l)"
   ]
  },
  {
   "cell_type": "code",
   "execution_count": 88,
   "metadata": {},
   "outputs": [
    {
     "output_type": "stream",
     "name": "stdout",
     "text": [
      "(1, 12, 12, 1)\n(1, 12, 12, 2)\n(1, 12, 12, 3)\n(1, 12, 12, -1)\n(3, 12, 10, -2)\n(3, 11, 9, -2)\n(3, 8, 6, -2)\n(8, 12, 5, -3)\n"
     ]
    }
   ],
   "source": [
    "import sequenceAnalysis\n",
    "from importlib import reload\n",
    "reload(sequenceAnalysis)\n",
    "\n",
    "testGene ='AA TTA CAT CAT A'\n",
    "'TTTACATCATT'\n",
    "orf = sequenceAnalysis.OrfFinder(testGene)\n",
    "orf1=orf.finalORFset(0,True)\n",
    "for orf in sorted(orf1, key=lambda a:(a[2]), reverse= True):\n",
    "    print(orf)\n",
    "#print(orf.orfFinder(0,True))\n",
    "#print(orf.revCompOrfFinder(0,True))"
   ]
  },
  {
   "cell_type": "code",
   "execution_count": 60,
   "metadata": {},
   "outputs": [
    {
     "output_type": "stream",
     "name": "stdout",
     "text": [
      "12345\n"
     ]
    }
   ],
   "source": [
    "A='12345'\n",
    "print(A[:100])"
   ]
  },
  {
   "cell_type": "code",
   "execution_count": 16,
   "metadata": {},
   "outputs": [
    {
     "output_type": "stream",
     "name": "stdout",
     "text": [
      "10\n"
     ]
    }
   ],
   "source": [
    "print((10-1)+1)\n"
   ]
  },
  {
   "cell_type": "code",
   "execution_count": null,
   "metadata": {},
   "outputs": [],
   "source": [
    "# 3..   12"
   ]
  }
 ]
}