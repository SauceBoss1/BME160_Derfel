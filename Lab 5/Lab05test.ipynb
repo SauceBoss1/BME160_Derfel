{
 "metadata": {
  "language_info": {
   "codemirror_mode": {
    "name": "ipython",
    "version": 3
   },
   "file_extension": ".py",
   "mimetype": "text/x-python",
   "name": "python",
   "nbconvert_exporter": "python",
   "pygments_lexer": "ipython3",
   "version": "3.9.1"
  },
  "orig_nbformat": 2,
  "kernelspec": {
   "name": "python391jvsc74a57bd06bf59213ea1d2961dafc53c642123ec190901ffb4eab15e1f1c2436601156c63",
   "display_name": "Python 3.9.1 64-bit"
  },
  "metadata": {
   "interpreter": {
    "hash": "6bf59213ea1d2961dafc53c642123ec190901ffb4eab15e1f1c2436601156c63"
   }
  }
 },
 "nbformat": 4,
 "nbformat_minor": 2,
 "cells": [
  {
   "cell_type": "code",
   "execution_count": 17,
   "metadata": {},
   "outputs": [
    {
     "output_type": "stream",
     "name": "stdout",
     "text": [
      "[[(333, 22)], [1, 2]]\n"
     ]
    }
   ],
   "source": [
    "l = [[],[1,2]]\n",
    "l[0].append((333,22))\n",
    "print(l)"
   ]
  },
  {
   "cell_type": "code",
   "execution_count": 52,
   "metadata": {},
   "outputs": [
    {
     "output_type": "stream",
     "name": "stdout",
     "text": [
      "[[(1, 6, 6, 1)], [(1, 11, 11, 2)], [(3, 11, 9, 3), (1, 10, 10, 3), (6, 11, 6, 3)]]\n"
     ]
    }
   ],
   "source": [
    "import sequenceAnalysis\n",
    "from importlib import reload\n",
    "reload(sequenceAnalysis)\n",
    "\n",
    "testGene ='AAATGATGTAA'\n",
    "orf = sequenceAnalysis.OrfFinder(testGene)\n",
    "print(orf.orfFinder(0))"
   ]
  },
  {
   "cell_type": "code",
   "execution_count": 60,
   "metadata": {},
   "outputs": [
    {
     "output_type": "stream",
     "name": "stdout",
     "text": [
      "12345\n"
     ]
    }
   ],
   "source": [
    "A='12345'\n",
    "print(A[:100])"
   ]
  },
  {
   "cell_type": "code",
   "execution_count": null,
   "metadata": {},
   "outputs": [],
   "source": []
  }
 ]
}