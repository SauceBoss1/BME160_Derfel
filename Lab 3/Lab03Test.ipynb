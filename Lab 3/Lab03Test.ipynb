{
 "metadata": {
  "language_info": {
   "codemirror_mode": {
    "name": "ipython",
    "version": 3
   },
   "file_extension": ".py",
   "mimetype": "text/x-python",
   "name": "python",
   "nbconvert_exporter": "python",
   "pygments_lexer": "ipython3",
   "version": "3.9.1-final"
  },
  "orig_nbformat": 2,
  "kernelspec": {
   "name": "python391jvsc74a57bd06bf59213ea1d2961dafc53c642123ec190901ffb4eab15e1f1c2436601156c63",
   "display_name": "Python 3.9.1 64-bit"
  },
  "metadata": {
   "interpreter": {
    "hash": "6bf59213ea1d2961dafc53c642123ec190901ffb4eab15e1f1c2436601156c63"
   }
  }
 },
 "nbformat": 4,
 "nbformat_minor": 2,
 "cells": [
  {
   "cell_type": "code",
   "execution_count": 14,
   "metadata": {},
   "outputs": [
    {
     "output_type": "stream",
     "name": "stdout",
     "text": [
      "{'A': 3, 'G': 0, 'M': 0, 'S': 1, 'C': 0, 'H': 0, 'N': 1, 'T': 1, 'D': 1, 'I': 0, 'P': 1, 'V': 2, 'E': 0, 'K': 2, 'Q': 0, 'W': 1, 'F': 0, 'L': 1, 'R': 0, 'Y': 0}\n14\n"
     ]
    }
   ],
   "source": [
    "import math\n",
    "import numpy\n",
    "aa2mw = {\n",
    "        'A': 89.093,  'G': 75.067,  'M': 149.211, 'S': 105.093, 'C': 121.158,\n",
    "        'H': 155.155, 'N': 132.118, 'T': 119.119, 'D': 133.103, 'I': 131.173,\n",
    "        'P': 115.131, 'V': 117.146, 'E': 147.129, 'K': 146.188, 'Q': 146.145,\n",
    "        'W': 204.225,  'F': 165.189, 'L': 131.173, 'R': 174.201, 'Y': 181.189\n",
    "        }\n",
    "aaComp = {key:0 for key in aa2mw }\n",
    "mwH2O = 18.015\n",
    "aa2abs280= {'Y':1490, 'W': 5500, 'C': 125}\n",
    "aa2chargePos = {'K': 10.5, 'R':12.4, 'H':6}\n",
    "aa2chargeNeg = {'D': 3.86, 'E': 4.25, 'C': 8.33, 'Y': 10}\n",
    "aaNterm = 9.69\n",
    "aaCterm = 2.34\n",
    "\n",
    "\n",
    "protein = input('Enter protein: ').upper()\n",
    "for char in protein:\n",
    "        if char in aaComp:\n",
    "            aaComp[char] += 1\n",
    "\n",
    "def aaCount(protein,dictionary):\n",
    "    validAACounter = 0\n",
    "    for key in aaComp:\n",
    "        validAACounter += aaComp[key]\n",
    "    return validAACounter\n",
    "\n",
    "print(aaComp)\n",
    "print(aaCount(protein,aaComp))"
   ]
  },
  {
   "cell_type": "code",
   "execution_count": 1,
   "metadata": {},
   "outputs": [
    {
     "output_type": "stream",
     "name": "stdout",
     "text": [
      "14\n{'A': 3, 'G': 0, 'M': 0, 'S': 1, 'C': 0, 'H': 0, 'N': 1, 'T': 1, 'D': 1, 'I': 0, 'P': 1, 'V': 2, 'E': 0, 'K': 2, 'Q': 0, 'W': 1, 'F': 0, 'L': 1, 'R': 0, 'Y': 0}\n5500\n3.6673659111003833\n1499.714\n"
     ]
    }
   ],
   "source": [
    "import math\n",
    "class ProteinParam :\n",
    "    # These tables are for calculating:\n",
    "#     molecular weight (aa2mw), along with the mol. weight of H2O (mwH2O)\n",
    "#     absorbance at 280 nm (aa2abs280)\n",
    "#     pKa of positively charged Amino Acids (aa2chargePos)\n",
    "#     pKa of negatively charged Amino acids (aa2chargeNeg)\n",
    "#     and the constants aaNterm and aaCterm for pKa of the respective termini\n",
    "#  Feel free to move these to appropriate methods as you like\n",
    "\n",
    "# As written, these are accessed as class attributes, for example:\n",
    "# ProteinParam.aa2mw['A'] or ProteinParam.mwH2O\n",
    "\n",
    "    aa2mw = {\n",
    "        'A': 89.093,  'G': 75.067,  'M': 149.211, 'S': 105.093, 'C': 121.158,\n",
    "        'H': 155.155, 'N': 132.118, 'T': 119.119, 'D': 133.103, 'I': 131.173,\n",
    "        'P': 115.131, 'V': 117.146, 'E': 147.129, 'K': 146.188, 'Q': 146.145,\n",
    "        'W': 204.225,  'F': 165.189, 'L': 131.173, 'R': 174.201, 'Y': 181.189\n",
    "        }\n",
    "    \n",
    "    \n",
    "    mwH2O = 18.015\n",
    "    aa2abs280= {'Y':1490, 'W': 5500, 'C': 125}\n",
    "\n",
    "    aa2chargePos = {'K': 10.5, 'R':12.4, 'H':6}\n",
    "    aa2chargeNeg = {'D': 3.86, 'E': 4.25, 'C': 8.33, 'Y': 10}\n",
    "    aaNterm = 9.69\n",
    "    aaCterm = 2.34\n",
    "\n",
    "    def __init__ (self, protein):\n",
    "        self.protein = protein\n",
    "        self.aaComp = {key:0 for key in self.aa2mw} #creates a dictionary of all AA keys but set to 0\n",
    "        for char in protein:\n",
    "            if char in self.aaComp:\n",
    "                self.aaComp[char] += 1\n",
    "\n",
    "    def aaCount (self):\n",
    "        return sum(self.aaComp[aa] for aa in self.aaComp)\n",
    "        # validAACounter = 0\n",
    "        # for aa in self.aaComp:\n",
    "        #    validAACounter += self.aaComp[aa] \n",
    "        # return validAACounter\n",
    "\n",
    "    def pI (self):\n",
    "        pass\n",
    "\n",
    "    def aaComposition (self) :\n",
    "        return self.aaComp\n",
    "\n",
    "    def _charge_ (self,pH):\n",
    "        pass\n",
    "\n",
    "    def molarExtinction (self):\n",
    "        return (self.aaComp['Y']*self.aa2abs280['Y'])+(self.aaComp['W']*self.aa2abs280['W'])+(self.aaComp['C']*self.aa2abs280['C'])\n",
    "\n",
    "    def massExtinction (self):\n",
    "        myMW =  self.molecularWeight()\n",
    "        return self.molarExtinction() / myMW if myMW else 0.0\n",
    "\n",
    "    def molecularWeight (self):\n",
    "        return self.mwH2O + sum((self.aaComp[aa]*(self.aa2mw[aa]-self.mwH2O)) for aa in self.aaComp)\n",
    "        # summationOfAA = 0\n",
    "        # for aa in self.aaComp:\n",
    "        #     summationOfAA += (self.aaComp[aa]*(self.aa2mw[aa]-self.mwH2O))\n",
    "        # return self.mwH2O + summationOfAA\n",
    "def main():\n",
    "    protein = ProteinParam('VLSPADKTNVKAAW')\n",
    "    print(protein.aaCount())\n",
    "    #print(protein.pI())\n",
    "    print(protein.aaComposition())\n",
    "    #print(protein._charge_())\n",
    "    print(protein.molarExtinction())\n",
    "    print(protein.massExtinction())\n",
    "    print(protein.molecularWeight())\n",
    "main()"
   ]
  },
  {
   "cell_type": "code",
   "execution_count": null,
   "metadata": {},
   "outputs": [],
   "source": []
  }
 ]
}