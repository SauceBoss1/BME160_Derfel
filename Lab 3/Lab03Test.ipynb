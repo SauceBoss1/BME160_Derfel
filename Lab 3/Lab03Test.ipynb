{
 "metadata": {
  "language_info": {
   "codemirror_mode": {
    "name": "ipython",
    "version": 3
   },
   "file_extension": ".py",
   "mimetype": "text/x-python",
   "name": "python",
   "nbconvert_exporter": "python",
   "pygments_lexer": "ipython3",
   "version": "3.9.1-final"
  },
  "orig_nbformat": 2,
  "kernelspec": {
   "name": "python391jvsc74a57bd06bf59213ea1d2961dafc53c642123ec190901ffb4eab15e1f1c2436601156c63",
   "display_name": "Python 3.9.1 64-bit"
  },
  "metadata": {
   "interpreter": {
    "hash": "6bf59213ea1d2961dafc53c642123ec190901ffb4eab15e1f1c2436601156c63"
   }
  }
 },
 "nbformat": 4,
 "nbformat_minor": 2,
 "cells": [
  {
   "cell_type": "code",
   "execution_count": 11,
   "metadata": {},
   "outputs": [
    {
     "output_type": "stream",
     "name": "stdout",
     "text": [
      "{'A': 0, 'G': 0, 'M': 0, 'S': 0, 'C': 0, 'H': 0, 'N': 0, 'T': 0, 'D': 0, 'I': 0, 'P': 0, 'V': 0, 'E': 0, 'K': 0, 'Q': 0, 'W': 0, 'F': 0, 'L': 0, 'R': 0, 'Y': 0}\n0\n"
     ]
    }
   ],
   "source": [
    "import math\n",
    "import numpy\n",
    "aa2mw = {\n",
    "        'A': 89.093,  'G': 75.067,  'M': 149.211, 'S': 105.093, 'C': 121.158,\n",
    "        'H': 155.155, 'N': 132.118, 'T': 119.119, 'D': 133.103, 'I': 131.173,\n",
    "        'P': 115.131, 'V': 117.146, 'E': 147.129, 'K': 146.188, 'Q': 146.145,\n",
    "        'W': 204.225,  'F': 165.189, 'L': 131.173, 'R': 174.201, 'Y': 181.189\n",
    "        }\n",
    "aaComp = {key:0 for key in aa2mw }\n",
    "mwH2O = 18.015\n",
    "aa2abs280= {'Y':1490, 'W': 5500, 'C': 125}\n",
    "aa2chargePos = {'K': 10.5, 'R':12.4, 'H':6}\n",
    "aa2chargeNeg = {'D': 3.86, 'E': 4.25, 'C': 8.33, 'Y': 10}\n",
    "aaNterm = 9.69\n",
    "aaCterm = 2.34\n",
    "\n",
    "\n",
    "protein = input('Enter protein: ').upper()\n",
    "for char in protein:\n",
    "        if char in aaComp:\n",
    "            aaComp[char] += 1\n",
    "\n",
    "def aaCount(protein,dictionary):\n",
    "    validAACounter = 0\n",
    "    for key in aaComp:\n",
    "        validAACounter += aaComp[key]\n",
    "    return validAACounter\n",
    "\n",
    "print(aaComp)\n",
    "print(aaCount(protein,aaComp))"
   ]
  },
  {
   "cell_type": "code",
   "execution_count": 1,
   "metadata": {
    "tags": []
   },
   "outputs": [
    {
     "output_type": "error",
     "ename": "SyntaxError",
     "evalue": "invalid syntax (<ipython-input-1-ce304e5f994d>, line 147)",
     "traceback": [
      "\u001b[1;36m  File \u001b[1;32m\"<ipython-input-1-ce304e5f994d>\"\u001b[1;36m, line \u001b[1;32m147\u001b[0m\n\u001b[1;33m    print(f'pI = {protein.pI()}')as\u001b[0m\n\u001b[1;37m                                 ^\u001b[0m\n\u001b[1;31mSyntaxError\u001b[0m\u001b[1;31m:\u001b[0m invalid syntax\n"
     ]
    }
   ],
   "source": [
    "import math\n",
    "import numpy\n",
    "class ProteinParam :\n",
    "    # These tables are for calculating:\n",
    "#     molecular weight (aa2mw), along with the mol. weight of H2O (mwH2O)\n",
    "#     absorbance at 280 nm (aa2abs280)\n",
    "#     pKa of positively charged Amino Acids (aa2chargePos)\n",
    "#     pKa of negatively charged Amino acids (aa2chargeNeg)\n",
    "#     and the constants aaNterm and aaCterm for pKa of the respective termini\n",
    "#  Feel free to move these to appropriate methods as you like\n",
    "\n",
    "# As written, these are accessed as class attributes, for example:\n",
    "# ProteinParam.aa2mw['A'] or ProteinParam.mwH2O\n",
    "\n",
    "    aa2mw = {\n",
    "        'A': 89.093,  'G': 75.067,  'M': 149.211, 'S': 105.093, 'C': 121.158,\n",
    "        'H': 155.155, 'N': 132.118, 'T': 119.119, 'D': 133.103, 'I': 131.173,\n",
    "        'P': 115.131, 'V': 117.146, 'E': 147.129, 'K': 146.188, 'Q': 146.145,\n",
    "        'W': 204.225,  'F': 165.189, 'L': 131.173, 'R': 174.201, 'Y': 181.189\n",
    "        }\n",
    "    \n",
    "    \n",
    "    mwH2O = 18.015\n",
    "    aa2abs280= {'Y':1490, 'W': 5500, 'C': 125}\n",
    "\n",
    "    aa2chargePos = {'K': 10.5, 'R':12.4, 'H':6}\n",
    "    aa2chargeNeg = {'D': 3.86, 'E': 4.25, 'C': 8.33, 'Y': 10}\n",
    "    aaNterm = 9.69\n",
    "    aaCterm = 2.34\n",
    "\n",
    "    def __init__ (self, protein):\n",
    "        self.protein = protein\n",
    "        self.aaComp = {key:0 for key in self.aa2mw} #creates a dictionary of all AA keys but set to 0\n",
    "        for char in protein:\n",
    "            if char in self.aaComp:\n",
    "                self.aaComp[char] += 1\n",
    "#private helper methods \n",
    "#These methods are not meant to be accessed by anyone else therefore, I will be using name mangling\n",
    "    def __sumOfPosCharges(self,pH):\n",
    "        nTerm = (10**self.aaNterm)/((10**self.aaNterm) + (10**pH))\n",
    "        sumOfAA = sum((self.aaComp[aa])*((10**self.aa2chargePos[aa])/((10**self.aa2chargePos[aa])+(10**pH))) for aa in self.aa2chargePos)\n",
    "        return nTerm + sumOfAA\n",
    "    def __sumOfNegCharges(self,pH):\n",
    "        cTerm = (10**pH)/((10**self.aaCterm) + (10**pH))\n",
    "        sumOfAA = sum((self.aaComp[aa])*((10**pH)/((10**self.aa2chargeNeg[aa])+(10**pH))) for aa in self.aa2chargeNeg)\n",
    "        return cTerm + sumOfAA\n",
    "\n",
    "#private methods for binary search\n",
    "\n",
    "    def __leftMost(self,listX,target, precision=2):\n",
    "        target = target*(.1**(-1*precision))\n",
    "        leftBound=0\n",
    "        rightBound=len(listX)-2\n",
    "        while leftBound < rightBound:\n",
    "            mid = (leftBound+rightBound)//2\n",
    "            midVal = int(listX[mid]*(0.1**(-1*precision)))\n",
    "            if midVal < target:\n",
    "                leftBound = mid +1\n",
    "            else:\n",
    "                rightBound = mid\n",
    "        return leftBound\n",
    "    \n",
    "    def __rightMost(self,listX,target,precision=2):\n",
    "        target = target*(.1**(-1*precision))\n",
    "        leftBound=0\n",
    "        rightBound=len(listX)-1\n",
    "        while leftBound < rightBound:\n",
    "            mid = (leftBound+rightBound)//2\n",
    "            midVal = int(listX[mid]*(0.1**(-1*precision)))\n",
    "            if midVal > target:\n",
    "                rightBound = mid\n",
    "            else:\n",
    "                leftBound = mid + 1\n",
    "        return rightBound-1\n",
    "\n",
    "    def __dupBinSearch(self,listX,target,precision=2):\n",
    "        listX=sorted(listX)\n",
    "        left=self.__leftMost(listX,target,precision)\n",
    "        right=self.__rightMost(listX,target,precision)\n",
    "        duplicates = [abs(listX[items]) for items in range(left,right+1)]\n",
    "        print(duplicates)\n",
    "        #smallestValue=2**256\n",
    "        # for item in duplicates:\n",
    "        #     if item < smallestValue:\n",
    "        #         smallestValue = item\n",
    "        # return smallestValue\n",
    "        if min(duplicates) not in listX:\n",
    "            return min(duplicates) *-1\n",
    "        return min(duplicates)\n",
    "    def binarySearchOfCharges(self, leftBound, rightBound, targetValue, precision =2):\n",
    "        left =leftBound\n",
    "        right = rightBound\n",
    "        while left <= right:\n",
    "            m = (left + right)/2\n",
    "            chargeATpH = (self._charge_(m))\n",
    "            if chargeATpH > targetValue:\n",
    "                left = m + (.1**precision)\n",
    "                #print('left = ',left)\n",
    "            elif chargeATpH < targetValue:\n",
    "                right = m - (.1**precision)\n",
    "                #print('right = ',right)\n",
    "        return right\n",
    "\n",
    "#public methods\n",
    "    def aaCount (self):\n",
    "        return sum(self.aaComp[aa] for aa in self.aaComp)\n",
    "        # validAACounter = 0\n",
    "        # for aa in self.aaComp:\n",
    "        #    validAACounter += self.aaComp[aa] \n",
    "        # return validAACounter\n",
    "\n",
    "\n",
    "    def _charge_ (self,pH):\n",
    "        '''returns the net charge with a given pH'''\n",
    "        return self.__sumOfPosCharges(pH) - self.__sumOfNegCharges(pH)\n",
    "\n",
    "\n",
    "    def pI (self):\n",
    "        # chargeOfAA = [self._charge_(pH) for pH in numpy.arange(0,14.01,0.01)]\n",
    "        # #print(chargeOfAA)\n",
    "        # smallestCharge = self.__dupBinSearch(chargeOfAA,0)\n",
    "        # return chargeOfAA.index(smallestCharge) * 0.01#, chargeOfAA\n",
    "        return self.binarySearchOfCharges(0,14,0,2)\n",
    "\n",
    "    def aaComposition (self,key=abs) :\n",
    "        return self.aaComp\n",
    "\n",
    "    def molarExtinction (self):\n",
    "        return (self.aaComp['Y']*self.aa2abs280['Y'])+(self.aaComp['W']*self.aa2abs280['W'])+(self.aaComp['C']*self.aa2abs280['C'])\n",
    "\n",
    "    def massExtinction (self):\n",
    "        myMW =  self.molecularWeight()\n",
    "        return self.molarExtinction() / myMW if myMW else 0.0\n",
    "\n",
    "    def molecularWeight (self): #rethink prof's solution\n",
    "        if self.aaCount() > 0:\n",
    "            return self.mwH2O + sum((self.aaComp[aa]*(self.aa2mw[aa]-self.mwH2O)) for aa in self.aaComp)\n",
    "        else:\n",
    "            return 0\n",
    "        # summationOfAA = 0\n",
    "        # for aa in self.aaComp:\n",
    "        #     summationOfAA += (self.aaComp[aa]*(self.aa2mw[aa]-self.mwH2O))\n",
    "        # return self.mwH2O + summationOfAA\n",
    "def main():\n",
    "    #protein = ProteinParam('VLSPADKTNVKAAW')\n",
    "    protein = ProteinParam('AGMETEKD')\n",
    "    print(f'pI = {protein.pI()}')\n",
    "    # print(protein.aaComposition())\n",
    "    # print(protein._charge_(6.94))\n",
    "    # print(protein.molarExtinction())\n",
    "    # print(protein.massExtinction())\n",
    "    # print(protein.molecularWeight())\n",
    "main()"
   ]
  },
  {
   "cell_type": "code",
   "execution_count": 321,
   "metadata": {},
   "outputs": [
    {
     "output_type": "stream",
     "name": "stdout",
     "text": [
      "0.0\n0.01\n0.02\n0.03\n0.04\n0.05\n0.06\n0.07\n0.08\n0.09\n0.1\n0.11\n0.12\n0.13\n0.14\n0.15\n0.16\n0.17\n0.18\n0.19\n0.2\n0.21\n0.22\n0.23\n0.24\n0.25\n0.26\n0.27\n0.28\n0.29\n0.3\n0.31\n0.32\n0.33\n0.34\n0.35000000000000003\n0.36\n0.37\n0.38\n0.39\n0.4\n0.41000000000000003\n0.42\n0.43\n0.44\n0.45\n0.46\n0.47000000000000003\n0.48\n0.49\n0.5\n0.51\n0.52\n0.53\n0.54\n0.55\n0.56\n0.5700000000000001\n0.58\n0.59\n0.6\n0.61\n0.62\n0.63\n0.64\n0.65\n0.66\n0.67\n0.68\n0.6900000000000001\n0.7000000000000001\n0.71\n0.72\n0.73\n0.74\n0.75\n0.76\n0.77\n0.78\n0.79\n0.8\n0.81\n0.8200000000000001\n0.8300000000000001\n0.84\n0.85\n0.86\n0.87\n0.88\n0.89\n0.9\n0.91\n0.92\n0.93\n0.9400000000000001\n0.9500000000000001\n0.96\n0.97\n0.98\n0.99\n1.0\n"
     ]
    }
   ],
   "source": [
    "import numpy as np\n",
    "import math\n",
    "for x in np.arange(0,1.01,0.01):\n",
    "    print(x)"
   ]
  },
  {
   "cell_type": "code",
   "execution_count": 64,
   "metadata": {},
   "outputs": [
    {
     "output_type": "stream",
     "name": "stdout",
     "text": [
      "[0.0, 0.01, 0.02, 0.03, 0.04, 0.05, 0.06, 0.07, 0.08, 0.09, 0.1, 0.11, 0.12, 0.13, 0.14, 0.15, 0.16, 0.17, 0.18, 0.19, 0.2, 0.21, 0.22, 0.23, 0.24, 0.25, 0.26, 0.27, 0.28, 0.29, 0.3, 0.31, 0.32, 0.33, 0.34, 0.35000000000000003, 0.36, 0.37, 0.38, 0.39, 0.4, 0.41000000000000003, 0.42, 0.43, 0.44, 0.45, 0.46, 0.47000000000000003, 0.48, 0.49, 0.5, 0.51, 0.52, 0.53, 0.54, 0.55, 0.56, 0.5700000000000001, 0.58, 0.59, 0.6, 0.61, 0.62, 0.63, 0.64, 0.65, 0.66, 0.67, 0.68, 0.6900000000000001, 0.7000000000000001, 0.71, 0.72, 0.73, 0.74, 0.75, 0.76, 0.77, 0.78, 0.79, 0.8, 0.81, 0.8200000000000001, 0.8300000000000001, 0.84, 0.85, 0.86, 0.87, 0.88, 0.89, 0.9, 0.91, 0.92, 0.93, 0.9400000000000001, 0.9500000000000001, 0.96, 0.97, 0.98, 0.99, 1.0]\n"
     ]
    }
   ],
   "source": [
    "def add(a):\n",
    "    return a+0\n",
    "testList = [add(b) for b in numpy.arange(0,1.01,0.01)]\n",
    "print(testList)"
   ]
  },
  {
   "cell_type": "code",
   "execution_count": 81,
   "metadata": {},
   "outputs": [
    {
     "output_type": "stream",
     "name": "stdout",
     "text": [
      "-1\n"
     ]
    }
   ],
   "source": [
    "print(min(-1,1))"
   ]
  },
  {
   "cell_type": "code",
   "execution_count": 317,
   "metadata": {},
   "outputs": [
    {
     "output_type": "stream",
     "name": "stdout",
     "text": [
      "[-0.007317518408253898, 0.0053949653393829955, 0.018033230783152332, 0.030596277903915947, 0.04308312627990407, 0.05549281465126388, 0.06782440053078487, 0.08007695986185892, 0.0922495867244153]\n0\n4\n1\n0\n0.0053949653393829955\n"
     ]
    }
   ],
   "source": [
    "x = [-3.00,-2.00,-1.00,0.0005,1.001111]\n",
    "y = [10.000,8.00,6.00,0.00,-12.00]\n",
    "z = [0.0922495867244153, 0.08007695986185892, 0.06782440053078487, 0.05549281465126388, 0.04308312627990407, 0.030596277903915947, 0.018033230783152332, 0.0053949653393829955, -0.007317518408253898]\n",
    "\n",
    "\n",
    "def binSearch(listInput,target,precision=2):\n",
    "    listInput= sorted(listInput)\n",
    "    L = 0\n",
    "    R = len(listInput)-1\n",
    "    while L <= R:\n",
    "        m = math.ceil((L+R)/2)\n",
    "        mValue = int(listInput[m]*(.1**(-1*precision)))\n",
    "        print(mValue)\n",
    "        if mValue < target:\n",
    "            L = m + 1\n",
    "        elif mValue>target:\n",
    "            R = m - 1\n",
    "        else:\n",
    "            return listInput[m]\n",
    "    return None\n",
    "print(sorted(z))\n",
    "print(int(z[7]*100))\n",
    "print(binSearch(z,0))"
   ]
  },
  {
   "cell_type": "code",
   "execution_count": 320,
   "metadata": {},
   "outputs": [
    {
     "output_type": "stream",
     "name": "stdout",
     "text": [
      "True\n"
     ]
    }
   ],
   "source": [
    "print(-.01 < 0.01)"
   ]
  },
  {
   "cell_type": "code",
   "execution_count": 2,
   "metadata": {},
   "outputs": [
    {
     "output_type": "stream",
     "name": "stdout",
     "text": [
      "0.0\n"
     ]
    }
   ],
   "source": [
    "#binary search with duplicates\n",
    "x = [-3.00,-2.00,-1.00,0.0005,0.0005,1.001111]\n",
    "y = [10.000,8.00,6.00,0.00,-12.00]\n",
    "z = [0.0922495867244153, 0.08007695986185892, 0.06782440053078487, 0.05549281465126388, 0.04308312627990407, 0.030596277903915947, 0.018033230783152332, 0.0053949653393829955, -0.007317518408253898]\n",
    "\n",
    "def leftMost(listX,target, precision=2):\n",
    "    target = target*(.1**(-1*precision))\n",
    "    leftBound=0\n",
    "    rightBound=len(listX)-2\n",
    "    while leftBound < rightBound:\n",
    "        mid = (leftBound+rightBound)//2\n",
    "        midVal = int(listX[mid]*(0.1**(-1*precision)))\n",
    "        if midVal < target:\n",
    "            leftBound = mid +1\n",
    "        else:\n",
    "            rightBound = mid\n",
    "    return leftBound\n",
    "def rightMost(listX,target,precision=2):\n",
    "    target = target*(.1**(-1*precision))\n",
    "    leftBound=0\n",
    "    rightBound=len(listX)-1\n",
    "    while leftBound < rightBound:\n",
    "        mid = (leftBound+rightBound)//2\n",
    "        midVal = int(listX[mid]*(0.1**(-1*precision)))\n",
    "        if midVal > target:\n",
    "            rightBound = mid\n",
    "        else:\n",
    "            leftBound = mid + 1\n",
    "    return rightBound-1\n",
    "\n",
    "def dupBinSearch(listX,target,precision=2):\n",
    "    listX=sorted(listX)\n",
    "    left=leftMost(listX,target,precision)\n",
    "    right=rightMost(listX,target,precision)\n",
    "    duplicates = [abs(listX[items]) for items in range(left,right+1)]\n",
    "    smallestValue=2**256\n",
    "    for item in duplicates:\n",
    "        if item < smallestValue:\n",
    "            smallestValue = item\n",
    "    return smallestValue\n",
    "\n",
    "print(dupBinSearch(y,0))\n"
   ]
  },
  {
   "cell_type": "code",
   "execution_count": 28,
   "metadata": {},
   "outputs": [
    {
     "output_type": "stream",
     "name": "stdout",
     "text": [
      "False\n"
     ]
    }
   ],
   "source": [
    "print(1<1)"
   ]
  }
 ]
}