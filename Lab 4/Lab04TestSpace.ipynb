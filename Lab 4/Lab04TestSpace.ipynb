{
 "metadata": {
  "language_info": {
   "codemirror_mode": {
    "name": "ipython",
    "version": 3
   },
   "file_extension": ".py",
   "mimetype": "text/x-python",
   "name": "python",
   "nbconvert_exporter": "python",
   "pygments_lexer": "ipython3",
   "version": "3.9.1-final"
  },
  "orig_nbformat": 2,
  "kernelspec": {
   "name": "python391jvsc74a57bd06bf59213ea1d2961dafc53c642123ec190901ffb4eab15e1f1c2436601156c63",
   "display_name": "Python 3.9.1 64-bit"
  },
  "metadata": {
   "interpreter": {
    "hash": "6bf59213ea1d2961dafc53c642123ec190901ffb4eab15e1f1c2436601156c63"
   }
  }
 },
 "nbformat": 4,
 "nbformat_minor": 2,
 "cells": [
  {
   "cell_type": "code",
   "execution_count": 27,
   "metadata": {},
   "outputs": [
    {
     "output_type": "stream",
     "name": "stdout",
     "text": [
      "{'UUU': 1, 'UCU': 0, 'UAU': 0, 'UGU': 0, 'UUC': 0, 'UCC': 0, 'UAC': 0, 'UGC': 0, 'UUA': 0, 'UCA': 0, 'UAA': 0, 'UGA': 0, 'UUG': 0, 'UCG': 0, 'UAG': 0, 'UGG': 0, 'CUU': 0, 'CCU': 0, 'CAU': 0, 'CGU': 0, 'CUC': 0, 'CCC': 0, 'CAC': 0, 'CGC': 0, 'CUA': 0, 'CCA': 0, 'CAA': 0, 'CGA': 0, 'CUG': 0, 'CCG': 0, 'CAG': 0, 'CGG': 0, 'AUU': 0, 'ACU': 2, 'AAU': 0, 'AGU': 0, 'AUC': 0, 'ACC': 0, 'AAC': 0, 'AGC': 0, 'AUA': 0, 'ACA': 0, 'AAA': 0, 'AGA': 0, 'AUG': 0, 'ACG': 0, 'AAG': 0, 'AGG': 0, 'GUU': 0, 'GCU': 0, 'GAU': 0, 'GGU': 0, 'GUC': 0, 'GCC': 0, 'GAC': 0, 'GGC': 0, 'GUA': 0, 'GCA': 0, 'GAA': 0, 'GGA': 0, 'GUG': 0, 'GCG': 1, 'GAG': 0, 'GGG': 0}\n",
      "{'F': 1, 'S': 0, 'Y': 0, 'C': 0, 'L': 0, '-': 0, 'W': 0, 'P': 0, 'H': 0, 'R': 0, 'Q': 0, 'I': 0, 'T': 2, 'N': 0, 'K': 0, 'M': 0, 'V': 0, 'A': 1, 'D': 0, 'G': 0, 'E': 0}\n",
      "{'A': 2, 'T': 2, 'C': 3, 'G': 2, 'U': 3, 'N': 3}\n",
      "c:\\Users\\dtvsw\\Documents\\GitHub\\BME160_Derfel\\Lab 4\\sequenceAnalysis.py:253: SyntaxWarning: \"is\" with a literal. Did you mean \"==\"?\n",
      "  return sys.stdin\n"
     ]
    }
   ],
   "source": [
    "import sequenceAnalysis\n",
    "from importlib import reload\n",
    "reload(sequenceAnalysis)\n",
    "DNA_STRING = 'ACTACTUUUGCGNNN'\n",
    "param = sequenceAnalysis.NucParams(DNA_STRING)\n",
    "\n",
    "print(param.codonComposition())\n",
    "print(param.aaComposition())\n",
    "print(param.nucComposition())\n"
   ]
  },
  {
   "cell_type": "code",
   "execution_count": 26,
   "metadata": {},
   "outputs": [
    {
     "output_type": "stream",
     "name": "stdout",
     "text": [
      "0\nACT\n3\nACT\n6\nUUU\n9\nGCG\n"
     ]
    }
   ],
   "source": [
    "DNA_STRING = 'ACTACTUUUGCG'\n",
    "for aa in range(0,len(DNA_STRING),3):\n",
    "    print(aa)\n",
    "    print(DNA_STRING[aa:aa+3])"
   ]
  },
  {
   "cell_type": "code",
   "execution_count": 1,
   "metadata": {
    "tags": []
   },
   "outputs": [
    {
     "output_type": "stream",
     "name": "stderr",
     "text": [
      "c:\\Users\\dtvsw\\Documents\\GitHub\\BME160_Derfel\\Lab 4\\sequenceAnalysis.py:253: SyntaxWarning: \"is\" with a literal. Did you mean \"==\"?\n  if self.fname is '':\n"
     ]
    },
    {
     "output_type": "error",
     "ename": "AttributeError",
     "evalue": "__enter__",
     "traceback": [
      "\u001b[1;31m---------------------------------------------------------------------------\u001b[0m",
      "\u001b[1;31mAttributeError\u001b[0m                            Traceback (most recent call last)",
      "\u001b[1;32m<ipython-input-1-f7406eda6593>\u001b[0m in \u001b[0;36m<module>\u001b[1;34m\u001b[0m\n\u001b[0;32m     18\u001b[0m \u001b[1;33m\u001b[0m\u001b[0m\n\u001b[0;32m     19\u001b[0m \u001b[1;32mif\u001b[0m \u001b[0m__name__\u001b[0m \u001b[1;33m==\u001b[0m \u001b[1;34m\"__main__\"\u001b[0m\u001b[1;33m:\u001b[0m\u001b[1;33m\u001b[0m\u001b[1;33m\u001b[0m\u001b[0m\n\u001b[1;32m---> 20\u001b[1;33m     \u001b[0mmain\u001b[0m\u001b[1;33m(\u001b[0m\u001b[1;33m)\u001b[0m\u001b[1;33m\u001b[0m\u001b[1;33m\u001b[0m\u001b[0m\n\u001b[0m",
      "\u001b[1;32m<ipython-input-1-f7406eda6593>\u001b[0m in \u001b[0;36mmain\u001b[1;34m()\u001b[0m\n\u001b[0;32m      6\u001b[0m     \u001b[0mmyReader\u001b[0m \u001b[1;33m=\u001b[0m \u001b[0msequenceAnalysis\u001b[0m\u001b[1;33m.\u001b[0m\u001b[0mFastAreader\u001b[0m\u001b[1;33m(\u001b[0m\u001b[1;33m)\u001b[0m \u001b[1;31m# make sure to change this to use stdin\u001b[0m\u001b[1;33m\u001b[0m\u001b[1;33m\u001b[0m\u001b[0m\n\u001b[0;32m      7\u001b[0m     \u001b[0mmyNuc\u001b[0m \u001b[1;33m=\u001b[0m \u001b[0msequenceAnalysis\u001b[0m\u001b[1;33m.\u001b[0m\u001b[0mNucParams\u001b[0m\u001b[1;33m(\u001b[0m\u001b[1;33m)\u001b[0m\u001b[1;33m\u001b[0m\u001b[1;33m\u001b[0m\u001b[0m\n\u001b[1;32m----> 8\u001b[1;33m     \u001b[1;32mfor\u001b[0m \u001b[0mhead\u001b[0m\u001b[1;33m,\u001b[0m \u001b[0mseq\u001b[0m \u001b[1;32min\u001b[0m \u001b[0mmyReader\u001b[0m\u001b[1;33m.\u001b[0m\u001b[0mreadFasta\u001b[0m\u001b[1;33m(\u001b[0m\u001b[1;33m)\u001b[0m\u001b[1;33m:\u001b[0m\u001b[1;33m\u001b[0m\u001b[1;33m\u001b[0m\u001b[0m\n\u001b[0m\u001b[0;32m      9\u001b[0m         \u001b[0mmyNuc\u001b[0m\u001b[1;33m.\u001b[0m\u001b[0maddSequence\u001b[0m\u001b[1;33m(\u001b[0m\u001b[0mseq\u001b[0m\u001b[1;33m)\u001b[0m\u001b[1;33m\u001b[0m\u001b[1;33m\u001b[0m\u001b[0m\n\u001b[0;32m     10\u001b[0m     \u001b[0mprint\u001b[0m\u001b[1;33m(\u001b[0m\u001b[0mmyNuc\u001b[0m\u001b[1;33m.\u001b[0m\u001b[0maaComposition\u001b[0m\u001b[1;33m(\u001b[0m\u001b[1;33m)\u001b[0m\u001b[1;33m)\u001b[0m\u001b[1;33m\u001b[0m\u001b[1;33m\u001b[0m\u001b[0m\n",
      "\u001b[1;32mc:\\Users\\dtvsw\\Documents\\GitHub\\BME160_Derfel\\Lab 4\\sequenceAnalysis.py\u001b[0m in \u001b[0;36mreadFasta\u001b[1;34m(self)\u001b[0m\n\u001b[0;32m    261\u001b[0m         \u001b[0msequence\u001b[0m \u001b[1;33m=\u001b[0m \u001b[1;34m''\u001b[0m\u001b[1;33m\u001b[0m\u001b[1;33m\u001b[0m\u001b[0m\n\u001b[0;32m    262\u001b[0m \u001b[1;33m\u001b[0m\u001b[0m\n\u001b[1;32m--> 263\u001b[1;33m         \u001b[1;32mwith\u001b[0m \u001b[0mself\u001b[0m\u001b[1;33m.\u001b[0m\u001b[0mdoOpen\u001b[0m\u001b[1;33m(\u001b[0m\u001b[1;33m)\u001b[0m \u001b[1;32mas\u001b[0m \u001b[0mfileH\u001b[0m\u001b[1;33m:\u001b[0m\u001b[1;33m\u001b[0m\u001b[1;33m\u001b[0m\u001b[0m\n\u001b[0m\u001b[0;32m    264\u001b[0m \u001b[1;33m\u001b[0m\u001b[0m\n\u001b[0;32m    265\u001b[0m             \u001b[0mheader\u001b[0m \u001b[1;33m=\u001b[0m \u001b[1;34m''\u001b[0m\u001b[1;33m\u001b[0m\u001b[1;33m\u001b[0m\u001b[0m\n",
      "\u001b[1;31mAttributeError\u001b[0m: __enter__"
     ]
    }
   ],
   "source": [
    "import sequenceAnalysis\n",
    "from importlib import reload\n",
    "reload(sequenceAnalysis)\n",
    "\n",
    "def main ():\n",
    "    myReader = sequenceAnalysis.FastAreader() # make sure to change this to use stdin\n",
    "    myNuc = sequenceAnalysis.NucParams()\n",
    "    for head, seq in myReader.readFasta():\n",
    "        myNuc.addSequence(seq)\n",
    "    print(myNuc.aaComposition())\n",
    "        \n",
    "    # sort codons in alpha order, by Amino Acid\n",
    "    \n",
    "    # calculate relative codon usage for each codon and print\n",
    "    # for nucI in nucs:\n",
    "    #     ...\n",
    "    #     print ('{:s} : {:s} {:5.1f} ({:6d})'.format(nuc, aa, val*100, thisCodonComp[nuc]))\n",
    "\n",
    "if __name__ == \"__main__\":\n",
    "    main()"
   ]
  },
  {
   "cell_type": "code",
   "execution_count": null,
   "metadata": {},
   "outputs": [],
   "source": []
  }
 ]
}