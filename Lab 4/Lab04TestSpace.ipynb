{
 "metadata": {
  "language_info": {
   "codemirror_mode": {
    "name": "ipython",
    "version": 3
   },
   "file_extension": ".py",
   "mimetype": "text/x-python",
   "name": "python",
   "nbconvert_exporter": "python",
   "pygments_lexer": "ipython3",
   "version": "3.9.1"
  },
  "orig_nbformat": 2,
  "kernelspec": {
   "name": "python391jvsc74a57bd06bf59213ea1d2961dafc53c642123ec190901ffb4eab15e1f1c2436601156c63",
   "display_name": "Python 3.9.1 64-bit"
  },
  "metadata": {
   "interpreter": {
    "hash": "6bf59213ea1d2961dafc53c642123ec190901ffb4eab15e1f1c2436601156c63"
   }
  }
 },
 "nbformat": 4,
 "nbformat_minor": 2,
 "cells": [
  {
   "cell_type": "code",
   "execution_count": 10,
   "metadata": {},
   "outputs": [
    {
     "output_type": "stream",
     "name": "stdout",
     "text": [
      "{'UUU': 1, 'UCU': 0, 'UAU': 0, 'UGU': 0, 'UUC': 0, 'UCC': 0, 'UAC': 0, 'UGC': 0, 'UUA': 0, 'UCA': 0, 'UAA': 0, 'UGA': 0, 'UUG': 0, 'UCG': 0, 'UAG': 0, 'UGG': 0, 'CUU': 0, 'CCU': 0, 'CAU': 0, 'CGU': 0, 'CUC': 0, 'CCC': 0, 'CAC': 0, 'CGC': 0, 'CUA': 0, 'CCA': 0, 'CAA': 0, 'CGA': 0, 'CUG': 0, 'CCG': 0, 'CAG': 0, 'CGG': 0, 'AUU': 0, 'ACU': 2, 'AAU': 0, 'AGU': 0, 'AUC': 0, 'ACC': 0, 'AAC': 0, 'AGC': 0, 'AUA': 0, 'ACA': 0, 'AAA': 0, 'AGA': 0, 'AUG': 0, 'ACG': 0, 'AAG': 0, 'AGG': 0, 'GUU': 0, 'GCU': 0, 'GAU': 0, 'GGU': 0, 'GUC': 0, 'GCC': 0, 'GAC': 0, 'GGC': 0, 'GUA': 0, 'GCA': 0, 'GAA': 0, 'GGA': 0, 'GUG': 0, 'GCG': 1, 'GAG': 0, 'GGG': 0}\n{'F': 1, 'S': 0, 'Y': 0, 'C': 0, 'L': 0, '-': 0, 'W': 0, 'P': 0, 'H': 0, 'R': 0, 'Q': 0, 'I': 0, 'T': 2, 'N': 0, 'K': 0, 'M': 0, 'V': 0, 'A': 1, 'D': 0, 'G': 0, 'E': 0}\n{'A': 2, 'T': 5, 'C': 3, 'G': 2, 'U': 0, 'N': 3}\n15\n"
     ]
    }
   ],
   "source": [
    "import sequenceAnalysis\n",
    "from importlib import reload\n",
    "reload(sequenceAnalysis)\n",
    "#DNA_STRING = 'ACTACTUUUGCGNNN'\n",
    "DNA_STRING = 'ACTACTTTTGCGNNN'\n",
    "param = sequenceAnalysis.NucParams()\n",
    "param.addSequence(DNA_STRING)\n",
    "print(param.codonComposition())\n",
    "print(param.aaComposition())\n",
    "print(param.nucComposition())\n",
    "print(param.nucCount())\n"
   ]
  },
  {
   "cell_type": "code",
   "execution_count": 26,
   "metadata": {},
   "outputs": [
    {
     "output_type": "stream",
     "name": "stdout",
     "text": [
      "0\nACT\n3\nACT\n6\nUUU\n9\nGCG\n"
     ]
    }
   ],
   "source": [
    "DNA_STRING = 'ACTACTUUUGCG'\n",
    "for aa in range(0,len(DNA_STRING),3):\n",
    "    print(aa)\n",
    "    print(DNA_STRING[aa:aa+3])"
   ]
  },
  {
   "cell_type": "code",
   "execution_count": 2,
   "metadata": {
    "tags": []
   },
   "outputs": [
    {
     "output_type": "stream",
     "name": "stdout",
     "text": [
      "c:\\Users\\dtvsw\\Documents\\GitHub\\BME160_Derfel\\Lab 4\n",
      "{'F': 41738265, 'S': 57310325, 'Y': 49783065, 'C': 11449872, 'L': 123436993, '-': 5086455, 'W': 17498284, 'P': 60063900, 'H': 18300804, 'R': 80233003, 'Q': 24481859, 'I': 63971536, 'T': 51386880, 'N': 27777095, 'K': 62849023, 'M': 21511842, 'V': 117363130, 'A': 120291436, 'D': 51670635, 'G': 90888757, 'E': 81778692}\n"
     ]
    }
   ],
   "source": [
    "import sequenceAnalysis\n",
    "from importlib import reload\n",
    "reload(sequenceAnalysis)\n",
    "import os\n",
    "def main ():\n",
    "    print(os.getcwd())\n",
    "    myReader = sequenceAnalysis.FastAreader('testGenome.fa') # make sure to change this to use stdin\n",
    "    myNuc = sequenceAnalysis.NucParams()\n",
    "    for head, seq in myReader.readFasta():\n",
    "        myNuc.addSequence(seq)\n",
    "    print(myNuc.aaComposition())\n",
    "        \n",
    "    # sort codons in alpha order, by Amino Acid\n",
    "    \n",
    "    # calculate relative codon usage for each codon and print\n",
    "    # for nucI in nucs:\n",
    "    #     ...\n",
    "    #     print ('{:s} : {:s} {:5.1f} ({:6d})'.format(nuc, aa, val*100, thisCodonComp[nuc]))\n",
    "\n",
    "if __name__ == \"__main__\":\n",
    "    main()"
   ]
  },
  {
   "cell_type": "code",
   "execution_count": null,
   "metadata": {},
   "outputs": [],
   "source": []
  }
 ]
}